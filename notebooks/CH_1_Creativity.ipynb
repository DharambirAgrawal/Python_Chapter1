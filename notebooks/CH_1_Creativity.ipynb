{
 "cells": [
  {
   "cell_type": "markdown",
   "metadata": {},
   "source": [
    "1. Write a paeudo-code description of a function that reverses a list of n integers, so that the numbers are listed in the opposite order than they were before,and compare this method to an equivalent Python function for doing the same thing. "
   ]
  },
  {
   "cell_type": "code",
   "execution_count": 14,
   "metadata": {},
   "outputs": [
    {
     "name": "stdout",
     "output_type": "stream",
     "text": [
      "[10, 9, 8, 7, 6, 5, 4, 3, 2, 1]\n",
      "[10, 9, 8, 7, 6, 5, 4, 3, 2, 1]\n"
     ]
    }
   ],
   "source": [
    "# \n",
    "# start\n",
    "# go to end of the list\n",
    "# create a new list with the elements in reverse order\n",
    "# stop\n",
    "# \n",
    "def swap_list_1(lists):\n",
    "    return lists[::-1]\n",
    "\n",
    "def swap_list(lists):\n",
    "    return [lists[-i] for i in range(1,len(lists)+1)]\n",
    "\n",
    "print(swap_list_1([1,2,3,4,5,6,7,8,9,10]))\n",
    "print(swap_list([1,2,3,4,5,6,7,8,9,10]))"
   ]
  },
  {
   "cell_type": "markdown",
   "metadata": {},
   "source": [
    "2. Write a short python function that takes a sequence of integer values and determines if there is a distinct pair of numbers in the sequence whose product is odd."
   ]
  },
  {
   "cell_type": "code",
   "execution_count": 23,
   "metadata": {},
   "outputs": [
    {
     "name": "stdout",
     "output_type": "stream",
     "text": [
      "True\n",
      "False\n"
     ]
    }
   ],
   "source": [
    "def has_odd_product(sequence):\n",
    "   \n",
    "    count =0\n",
    "    for number in sequence:\n",
    "      if number % 2 == 0: continue\n",
    "      count += 1\n",
    "      if count >= 2: return True\n",
    "    return False\n",
    "\n",
    "\n",
    "\n",
    "# Example usage\n",
    "sequence1 = [1, 2, 3, 4, 5]\n",
    "sequence2 = [2, 4, 6, 8, 10]\n",
    "\n",
    "print(has_odd_product(sequence1))  # True\n",
    "print(has_odd_product(sequence2))  # False"
   ]
  },
  {
   "cell_type": "markdown",
   "metadata": {},
   "source": [
    "3. Write a Python function that takes a sequence of numbers and determines if all the numbers are different from each other (that is,they are distinct)."
   ]
  },
  {
   "cell_type": "code",
   "execution_count": 60,
   "metadata": {},
   "outputs": [
    {
     "data": {
      "text/plain": [
       "False"
      ]
     },
     "execution_count": 60,
     "metadata": {},
     "output_type": "execute_result"
    }
   ],
   "source": [
    "def is_unique(sequence):\n",
    "    new_list = []\n",
    "    for number in sequence:\n",
    "        for i in new_list:\n",
    "            if i == number:\n",
    "                return False\n",
    "            \n",
    "        new_list.append(number)\n",
    "\n",
    "    return True\n",
    "\n",
    "is_unique([1,2,3,4,5,6,7,3,7])"
   ]
  },
  {
   "cell_type": "markdown",
   "metadata": {},
   "source": [
    "4. In our implementation of the scale function(page 25), the body of the loop executes the command data[j]*=factor. We have discusses that numeric types are immutable, and that use of the *= operator in this context causes the creation of a new instance (not the mutation of an existing instance ). How is it possible, then that our implementation of scale changes the actual parameter sent by the caller?"
   ]
  },
  {
   "cell_type": "code",
   "execution_count": null,
   "metadata": {},
   "outputs": [],
   "source": [
    "\n"
   ]
  },
  {
   "cell_type": "markdown",
   "metadata": {},
   "source": [
    "5. Had we implemented the scale function (page 25) as follows, does it work properly?\n",
    " def scale(data,factor):\n",
    "     for val in data:\n",
    "     val *= factor \n",
    "\n",
    "Explain why or why not."
   ]
  },
  {
   "cell_type": "code",
   "execution_count": null,
   "metadata": {},
   "outputs": [],
   "source": []
  },
  {
   "cell_type": "markdown",
   "metadata": {},
   "source": [
    "6. Demonstrate how to use python list comprehension syntax to produce the list [0, 2,6,12,20,30,42,56,72,90]."
   ]
  },
  {
   "cell_type": "code",
   "execution_count": 12,
   "metadata": {},
   "outputs": [
    {
     "name": "stdout",
     "output_type": "stream",
     "text": [
      "[0, 2, 6, 12, 20, 30, 42, 56, 72, 90]\n",
      "[0, 2, 6, 12, 20, 30, 42, 56, 72, 90]\n"
     ]
    }
   ],
   "source": [
    "def sequence(number):\n",
    "    list=[]\n",
    "    sum =0\n",
    "    for i in range(number):\n",
    "       sum += i \n",
    "       list.append(2*sum)\n",
    "    return list\n",
    "\n",
    "# Using python comprehension\n",
    "\n",
    "def sequence_2(number):\n",
    "    sum =0       \n",
    "    return [2 * (sum := sum + i) for i in range(number)]\n",
    "    \n",
    "\n",
    "\n",
    "print(sequence(10))  \n",
    "print(sequence_2(10))  \n"
   ]
  },
  {
   "cell_type": "markdown",
   "metadata": {},
   "source": [
    "7. Demonstrate how to use python list comprehension syntax to produce the list ['a','b','c',...,'z'], but without typing all 26 such characters literally."
   ]
  },
  {
   "cell_type": "code",
   "execution_count": 18,
   "metadata": {},
   "outputs": [
    {
     "name": "stdout",
     "output_type": "stream",
     "text": [
      "['a', 'b', 'c', 'd', 'e', 'f', 'g', 'h', 'i', 'j', 'k', 'l', 'm', 'n', 'o', 'p', 'q', 'r', 's', 't', 'u', 'v', 'w', 'x', 'y', 'z']\n"
     ]
    }
   ],
   "source": [
    "# 65-90 A-Z\n",
    "# 97-122 a-z\n",
    "\n",
    "seq=[chr(i) for i in range (97,123)]\n",
    "print(seq)\n"
   ]
  },
  {
   "cell_type": "markdown",
   "metadata": {},
   "source": [
    "8. Python's random module incluses a function shuffle(data) that accepts a list of elements and randomly reorders the elements so that each possible order occures with equal probability. The random module incluses the a more basic function randint(a,b) that returns a uniformly random integer from a to b (including both endpoints). Using only the randint function, implement your own version of the suffle function. "
   ]
  },
  {
   "cell_type": "code",
   "execution_count": 87,
   "metadata": {},
   "outputs": [
    {
     "name": "stdout",
     "output_type": "stream",
     "text": [
      "9\n",
      "8\n",
      "7\n",
      "6\n",
      "5\n",
      "4\n",
      "3\n",
      "2\n",
      "1\n",
      "[7, 2, 10, 3, 4, 8, 5, 1, 6, 9]\n"
     ]
    }
   ],
   "source": [
    "import random as rnd\n",
    "\n",
    "def suffle(lists):\n",
    "   new_list = lists.copy()\n",
    "   for i in range(len(new_list)-1, 0, -1):\n",
    "      print(i)\n",
    "      j = rnd.randint(0, i)\n",
    "      new_list[i], new_list[j] = new_list[j], new_list[i]\n",
    "   return new_list\n",
    "   \n",
    "   new_list=list(range(len(lists)))\n",
    "   \n",
    "# print(rnd.randint(0,10))\n",
    "print(suffle([1,2,3,4,5,6,7,8,9,10]))    \n"
   ]
  },
  {
   "cell_type": "markdown",
   "metadata": {},
   "source": [
    "9. Write a Python Program that repeatedly reads limes from standard input until an EOFError is raised, and then outouts those lines on reverse order (a user can indicate end of input by typing ctrl-D)"
   ]
  },
  {
   "cell_type": "code",
   "execution_count": 88,
   "metadata": {},
   "outputs": [],
   "source": [
    "lines = []\n",
    "\n",
    "try:\n",
    "    while True:\n",
    "        line = input()\n",
    "        lines.append(line)\n",
    "except EOFError:\n",
    "    pass\n",
    "\n",
    "for line in reversed(lines):\n",
    "    print(line)"
   ]
  },
  {
   "cell_type": "markdown",
   "metadata": {},
   "source": [
    "10. write a short python program that takes two array a and b of length n storing int values, and returns the dot product of a and b. That is, it returns an array c of length n such that \n",
    "c[i]=a[i] . b[i], for i=0, ...,n-1. "
   ]
  },
  {
   "cell_type": "code",
   "execution_count": 3,
   "metadata": {},
   "outputs": [
    {
     "name": "stdout",
     "output_type": "stream",
     "text": [
      "[1, 4, 9, 16, 25, 14, 24]\n"
     ]
    }
   ],
   "source": [
    "def product(arr1,arr2):\n",
    "    new_arr=[]\n",
    "    for i in range(len(arr1)):\n",
    "        new_arr.append(arr1[i]*arr2[i])\n",
    "\n",
    "    return new_arr\n",
    "\n",
    "print(product([1,2,3,4,5,7,8],[1,2,3,4,5,2,3]))\n"
   ]
  },
  {
   "cell_type": "markdown",
   "metadata": {},
   "source": [
    "11. Give an example of a Python code fragment that attempts to write an element to a list bases on an index that may be out of bounds, the program should catch the exception that results, and print the following error message: \"Don't try buffer overflow attacks in Python!\""
   ]
  },
  {
   "cell_type": "code",
   "execution_count": 5,
   "metadata": {},
   "outputs": [
    {
     "name": "stdout",
     "output_type": "stream",
     "text": [
      "Don't try buffer overflow attacks in Python!\n"
     ]
    }
   ],
   "source": [
    "list=[1,2,3,4,5]\n",
    "try:\n",
    "    list[5]=6\n",
    "except IndexError:\n",
    "    print(\"Don't try buffer overflow attacks in Python!\")"
   ]
  },
  {
   "cell_type": "markdown",
   "metadata": {},
   "source": [
    "12. write a Short python program that counts the number of vowels in a given character string."
   ]
  },
  {
   "cell_type": "code",
   "execution_count": 6,
   "metadata": {},
   "outputs": [
    {
     "name": "stdout",
     "output_type": "stream",
     "text": [
      "3\n"
     ]
    }
   ],
   "source": [
    "vowels=['a','e','i','o','u']\n",
    "\n",
    "def count_vowels(string):\n",
    "    count=0\n",
    "    for char in string:\n",
    "        if char in vowels:\n",
    "            count +=1\n",
    "    return  count\n",
    "\n",
    "print(count_vowels(\"hello world\"))"
   ]
  },
  {
   "cell_type": "markdown",
   "metadata": {},
   "source": [
    "13. Write a short Python function that takes a string's, representing a sentence, and returns a copy of the string with all punctuation removed. For EG: if the given string is \"Let's try, Mike.\", this function would return \"Lets try Mike\"."
   ]
  },
  {
   "cell_type": "code",
   "execution_count": 7,
   "metadata": {},
   "outputs": [
    {
     "name": "stdout",
     "output_type": "stream",
     "text": [
      "Hello World This is a test\n"
     ]
    }
   ],
   "source": [
    "punctuations=[\"'\",\"!\",\";\",\":\",\",\",\".\",\"?\"]\n",
    "def removePunctuation(string):\n",
    "    new_string=\"\"\n",
    "    for char in string:\n",
    "        if char in punctuations:\n",
    "            continue\n",
    "        new_string += char\n",
    "    return new_string\n",
    "\n",
    "print(removePunctuation(\"Hello, World! This is a test.\"))\n",
    "\n"
   ]
  },
  {
   "cell_type": "markdown",
   "metadata": {},
   "source": [
    "14. Write a short program that takes as input three integers, a,b, and c, from the console and determines if they can be used in a correct arthmetic formula (in the given order), like \n",
    "\"a+b=c\", \"a=b-c\" or \"a*b=c\" "
   ]
  },
  {
   "cell_type": "code",
   "execution_count": 10,
   "metadata": {},
   "outputs": [
    {
     "name": "stdout",
     "output_type": "stream",
     "text": [
      "1 * 1 = 1\n"
     ]
    }
   ],
   "source": [
    "a = int(input(\"Enter the value of a: \"))\n",
    "b = int(input(\"Enter the value of b: \"))\n",
    "c = int(input(\"Enter the value of c: \"))\n",
    "\n",
    "if a + b == c:\n",
    "    print(f\"{a} + {b} = {c}\")\n",
    "elif a == b - c:\n",
    "    print(f\"{a} = {b} - {c}\")\n",
    "elif a * b == c:\n",
    "    print(f\"{a} * {b} = {c}\")\n",
    "else:\n",
    "    print(\"The values cannot be used in a correct arithmetic formula.\")"
   ]
  },
  {
   "cell_type": "markdown",
   "metadata": {},
   "source": [
    "15. In Section 1.8, we Provided three different implementations of a generator that computes factors of a given integer. The third of those implementations, from page 41, was the most effecient, but we notedthat it did not yield the factors in the increasing order. Modify the generator so that it reports factors in increasing order, while maintaining its general performance advantages."
   ]
  },
  {
   "cell_type": "code",
   "execution_count": 22,
   "metadata": {},
   "outputs": [
    {
     "name": "stdout",
     "output_type": "stream",
     "text": [
      "[1, 2, 4, 5, 10, 20, 25, 50, 100]\n"
     ]
    }
   ],
   "source": [
    "def factors(number):\n",
    "    for i in range (1,number):\n",
    "        if number%i==0:\n",
    "            yield i\n",
    "# for i in factors(100):\n",
    "    # print(i)\n",
    "\n",
    "def factor_generator(n):\n",
    "    k=1\n",
    "    small_factors=[]\n",
    "    large_factors=[]\n",
    "    while k*k<n:\n",
    "        if n%k==0:\n",
    "            small_factors.append(k)\n",
    "            large_factors.append(n//k)  \n",
    "            # yield k\n",
    "            # yield n//k\n",
    "        k+=1\n",
    "    if k*k==n:\n",
    "        small_factors.append(k)\n",
    "        # yield k\n",
    "    yield small_factors+large_factors[::-1]\n",
    "\n",
    "for i in factor_generator(100):\n",
    "    print(i)"
   ]
  },
  {
   "cell_type": "markdown",
   "metadata": {},
   "source": [
    "16. The p-norm of a vector v=(v1,v2,v3,...vn) in n-dimensional space is defined as \n",
    "\n",
    "||v|| =p√v1^p + v2^p +....+ vn^p \n",
    "\n",
    "For the special case of p=2, this results in the traditional Euclidean norm, which represents the length of the vector. For example, the Euclidean norm of a two-dimensional vector with coordinate (4,3) has a Euclidean norm of √4² + 3² =5. Give an implementation of a function named norm such that norm(v,p) returns the p-norm value of v and norm(v) returns the Eucliden norm of v. You may assume that v is a list of number"
   ]
  },
  {
   "cell_type": "code",
   "execution_count": 27,
   "metadata": {},
   "outputs": [
    {
     "data": {
      "text/plain": [
       "9.539392014169456"
      ]
     },
     "execution_count": 27,
     "metadata": {},
     "output_type": "execute_result"
    }
   ],
   "source": [
    "import math\n",
    "def norm(v,p=2):\n",
    "    sum=0    \n",
    "    for i in v:\n",
    "        sum+=i**p\n",
    "    return math.sqrt(sum)\n",
    "\n",
    "norm([4,3],3)"
   ]
  },
  {
   "cell_type": "markdown",
   "metadata": {},
   "source": [
    "17. print:\n",
    "\n",
    "    *\n",
    "   ***\n",
    "  *****\n",
    " *******"
   ]
  },
  {
   "cell_type": "code",
   "execution_count": 1,
   "metadata": {},
   "outputs": [
    {
     "name": "stdout",
     "output_type": "stream",
     "text": [
      "    *\n",
      "   ***\n",
      "  *****\n",
      " *******\n"
     ]
    }
   ],
   "source": [
    "def star_tree(n):\n",
    "    temp=n\n",
    "    for i in range(0,n):\n",
    "        for j in range(temp):\n",
    "            print(' ',end='')\n",
    "            if j == temp-1:\n",
    "                for i in range(2*i+1):\n",
    "                    print('*',end='')\n",
    "                print()\n",
    "\n",
    "            \n",
    "        temp -=1\n",
    "\n",
    "\n",
    "star_tree(4)\n"
   ]
  }
 ],
 "metadata": {
  "kernelspec": {
   "display_name": "Python 3",
   "language": "python",
   "name": "python3"
  },
  "language_info": {
   "codemirror_mode": {
    "name": "ipython",
    "version": 3
   },
   "file_extension": ".py",
   "mimetype": "text/x-python",
   "name": "python",
   "nbconvert_exporter": "python",
   "pygments_lexer": "ipython3",
   "version": "3.12.1"
  }
 },
 "nbformat": 4,
 "nbformat_minor": 2
}
