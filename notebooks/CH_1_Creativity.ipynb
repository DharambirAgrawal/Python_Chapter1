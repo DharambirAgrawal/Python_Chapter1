{
 "cells": [
  {
   "cell_type": "markdown",
   "metadata": {},
   "source": [
    "1. Write a paeudo-code description of a function that reverses a list of n integers, so that the numbers are listed in the opposite order than they were before,and compare this method to an equivalent Python function for doing the same thing. "
   ]
  },
  {
   "cell_type": "code",
   "execution_count": 14,
   "metadata": {},
   "outputs": [
    {
     "name": "stdout",
     "output_type": "stream",
     "text": [
      "[10, 9, 8, 7, 6, 5, 4, 3, 2, 1]\n",
      "[10, 9, 8, 7, 6, 5, 4, 3, 2, 1]\n"
     ]
    }
   ],
   "source": [
    "# \n",
    "# start\n",
    "# go to end of the list\n",
    "# create a new list with the elements in reverse order\n",
    "# stop\n",
    "# \n",
    "def swap_list_1(lists):\n",
    "    return lists[::-1]\n",
    "\n",
    "def swap_list(lists):\n",
    "    return [lists[-i] for i in range(1,len(lists)+1)]\n",
    "\n",
    "print(swap_list_1([1,2,3,4,5,6,7,8,9,10]))\n",
    "print(swap_list([1,2,3,4,5,6,7,8,9,10]))"
   ]
  },
  {
   "cell_type": "markdown",
   "metadata": {},
   "source": [
    "2. Write a short python function that takes a sequence of integer values and determines if there is a distinct pair of numbers in the sequence whose product is odd."
   ]
  },
  {
   "cell_type": "code",
   "execution_count": 23,
   "metadata": {},
   "outputs": [
    {
     "name": "stdout",
     "output_type": "stream",
     "text": [
      "True\n",
      "False\n"
     ]
    }
   ],
   "source": [
    "def has_odd_product(sequence):\n",
    "   \n",
    "    count =0\n",
    "    for number in sequence:\n",
    "      if number % 2 == 0: continue\n",
    "      count += 1\n",
    "      if count >= 2: return True\n",
    "    return False\n",
    "\n",
    "\n",
    "\n",
    "# Example usage\n",
    "sequence1 = [1, 2, 3, 4, 5]\n",
    "sequence2 = [2, 4, 6, 8, 10]\n",
    "\n",
    "print(has_odd_product(sequence1))  # True\n",
    "print(has_odd_product(sequence2))  # False"
   ]
  },
  {
   "cell_type": "markdown",
   "metadata": {},
   "source": [
    "3. Write a Python function that takes a sequence of numbers and determines if all the numbers are different from each other (that is,they are distinct)."
   ]
  },
  {
   "cell_type": "code",
   "execution_count": 60,
   "metadata": {},
   "outputs": [
    {
     "data": {
      "text/plain": [
       "False"
      ]
     },
     "execution_count": 60,
     "metadata": {},
     "output_type": "execute_result"
    }
   ],
   "source": [
    "def is_unique(sequence):\n",
    "    new_list = []\n",
    "    for number in sequence:\n",
    "        for i in new_list:\n",
    "            if i == number:\n",
    "                return False\n",
    "            \n",
    "        new_list.append(number)\n",
    "\n",
    "    return True\n",
    "\n",
    "is_unique([1,2,3,4,5,6,7,3,7])"
   ]
  },
  {
   "cell_type": "markdown",
   "metadata": {},
   "source": [
    "4. In our implementation of the scale function(page 25), the body of the loop executes the command data[j]*=factor. We have siscusses that numeric types are immutable, and that use of the *= operator in this context causes the creation of a new instance (not the mutation of an existing instance ). How is it possible, then that our implementation of scale changes the actual parameter sent by the caller?"
   ]
  },
  {
   "cell_type": "code",
   "execution_count": 56,
   "metadata": {},
   "outputs": [
    {
     "name": "stdout",
     "output_type": "stream",
     "text": [
      "    *\n",
      "   ***\n",
      "  *****\n",
      " *******\n"
     ]
    }
   ],
   "source": [
    "def star_tree(n):\n",
    "    temp=n\n",
    "    for i in range(0,n):\n",
    "        for j in range(temp):\n",
    "            print(' ',end='')\n",
    "            if j == temp-1:\n",
    "                for i in range(2*i+1):\n",
    "                    print('*',end='')\n",
    "                print()\n",
    "\n",
    "            \n",
    "        temp -=1\n",
    "\n",
    "\n",
    "star_tree(4)\n",
    "\n"
   ]
  },
  {
   "cell_type": "markdown",
   "metadata": {},
   "source": [
    "5. Had we implemented the scale function (page 25) as follows, does it work properly?\n",
    " def scale(data,factor):\n",
    "     for val in data:\n",
    "     val *= factor \n",
    "\n",
    "Explain why or why not."
   ]
  },
  {
   "cell_type": "code",
   "execution_count": null,
   "metadata": {},
   "outputs": [],
   "source": []
  },
  {
   "cell_type": "markdown",
   "metadata": {},
   "source": [
    "6. Demonstrate how to use python list comprehension syntax to produce the list [0, 2,6,12,20,30,42,56,72,90]."
   ]
  },
  {
   "cell_type": "code",
   "execution_count": null,
   "metadata": {},
   "outputs": [],
   "source": []
  },
  {
   "cell_type": "markdown",
   "metadata": {},
   "source": [
    "7. Demonstrate how to use python list comprehension syntax to produce the list ['a','b','c',...,'z'], but without typing all 26 such characters literally."
   ]
  },
  {
   "cell_type": "code",
   "execution_count": null,
   "metadata": {},
   "outputs": [],
   "source": []
  },
  {
   "cell_type": "markdown",
   "metadata": {},
   "source": [
    "8. Python's random module incluses a function shuffle(data) that accepts a list of elements and randomly reorders the elements so that each possible order occures with equal probability. The random module incluses the a more basic function randint(a,b) that returns a uniformly random integer from a to b (including both endpoints). Using only the randint function, implement your own version of the suffle function. "
   ]
  },
  {
   "cell_type": "code",
   "execution_count": null,
   "metadata": {},
   "outputs": [],
   "source": []
  },
  {
   "cell_type": "markdown",
   "metadata": {},
   "source": [
    "9. Write a Python Program that repeatedly reads limes from standard input until an EOFError is raised, and then outouts those lines on reverse order (a user can indicate end of input by typing ctrl-D)"
   ]
  },
  {
   "cell_type": "code",
   "execution_count": null,
   "metadata": {},
   "outputs": [],
   "source": []
  },
  {
   "cell_type": "code",
   "execution_count": null,
   "metadata": {},
   "outputs": [],
   "source": []
  },
  {
   "cell_type": "code",
   "execution_count": null,
   "metadata": {},
   "outputs": [],
   "source": []
  }
 ],
 "metadata": {
  "kernelspec": {
   "display_name": "Python 3",
   "language": "python",
   "name": "python3"
  },
  "language_info": {
   "codemirror_mode": {
    "name": "ipython",
    "version": 3
   },
   "file_extension": ".py",
   "mimetype": "text/x-python",
   "name": "python",
   "nbconvert_exporter": "python",
   "pygments_lexer": "ipython3",
   "version": "3.12.1"
  }
 },
 "nbformat": 4,
 "nbformat_minor": 2
}
