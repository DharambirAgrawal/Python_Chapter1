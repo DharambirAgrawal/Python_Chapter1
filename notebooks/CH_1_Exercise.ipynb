{
 "cells": [
  {
   "cell_type": "markdown",
   "metadata": {},
   "source": [
    "1. Write a Short Program, is_multiple(n,m), that takes two integer in values and returns True if n is multiple of m, that is, n =mi for some integer i, and False otherwise."
   ]
  },
  {
   "cell_type": "code",
   "execution_count": 3,
   "metadata": {},
   "outputs": [
    {
     "data": {
      "text/plain": [
       "True"
      ]
     },
     "execution_count": 3,
     "metadata": {},
     "output_type": "execute_result"
    }
   ],
   "source": [
    "def is_multiple(n,m):\n",
    "    if(n%m == 0):\n",
    "       return True\n",
    "    return False   \n",
    "\n",
    "is_multiple(10,5)"
   ]
  },
  {
   "cell_type": "markdown",
   "metadata": {},
   "source": [
    "2. Write a Short python function, is_even(k). that takes an integer value and returns True if k is even, and False otherwise. However, your function cannot use the multiplication, modulo, or division operator."
   ]
  },
  {
   "cell_type": "code",
   "execution_count": 4,
   "metadata": {},
   "outputs": [
    {
     "data": {
      "text/plain": [
       "'Even'"
      ]
     },
     "execution_count": 4,
     "metadata": {},
     "output_type": "execute_result"
    }
   ],
   "source": [
    "\n",
    "def is_even(k):\n",
    "    for i in range(1,k+1,2):\n",
    "       if(k == i):\n",
    "          return 'Odd'\n",
    "    return 'Even'\n",
    "\n",
    "is_even(4)\n"
   ]
  },
  {
   "cell_type": "markdown",
   "metadata": {},
   "source": [
    "3. Write a Short program function, minmax(data), that takes a sequence of one or more numbers and returns the smallest and largest number, in the form of tuple of length two. DO not use the built in function."
   ]
  },
  {
   "cell_type": "code",
   "execution_count": 3,
   "metadata": {},
   "outputs": [
    {
     "data": {
      "text/plain": [
       "(-567, 456)"
      ]
     },
     "execution_count": 3,
     "metadata": {},
     "output_type": "execute_result"
    }
   ],
   "source": [
    "def minmax(data):\n",
    "    min =data[0]\n",
    "    max =data[0]\n",
    "    for i in range(len(data)):\n",
    "        if(data[i]< min):\n",
    "            min = data[i]\n",
    "        if(data[i]>max):\n",
    "            max =data[i]\n",
    "    return (min,max)\n",
    "\n",
    "\n",
    "\n",
    "minmax([34,57,25,7,4,78,34,25,66,6,345,85,456,0,8,-3,67,-567,66])"
   ]
  },
  {
   "cell_type": "markdown",
   "metadata": {},
   "source": [
    "4. Write a short python function that takes a positive integer n and returns the sum of the squares of all the positive integers smaller than n."
   ]
  },
  {
   "cell_type": "code",
   "execution_count": 19,
   "metadata": {},
   "outputs": [
    {
     "data": {
      "text/plain": [
       "5"
      ]
     },
     "execution_count": 19,
     "metadata": {},
     "output_type": "execute_result"
    }
   ],
   "source": [
    "def sqr_sum(n):\n",
    "    sum=0\n",
    "    for i in range(1,n):\n",
    "        sum += i * i \n",
    "    return sum\n",
    "\n",
    "sqr_sum(3)\n",
    "\n",
    "# Note: needed to check if the number is positive\n"
   ]
  },
  {
   "cell_type": "markdown",
   "metadata": {},
   "source": [
    "5. Give a single command that computes the sum from Exercise 4 , relying on Pythonis comprehension syntax and the built in sum function. "
   ]
  },
  {
   "cell_type": "code",
   "execution_count": 20,
   "metadata": {},
   "outputs": [
    {
     "data": {
      "text/plain": [
       "5"
      ]
     },
     "execution_count": 20,
     "metadata": {},
     "output_type": "execute_result"
    }
   ],
   "source": [
    "def sqr_sum(n):\n",
    "    add= sum([i*i for i in range(1,n)])\n",
    "    return add\n",
    "\n",
    "sqr_sum(3)\n",
    "\n",
    "# sum([1,2,3,4])"
   ]
  },
  {
   "cell_type": "markdown",
   "metadata": {},
   "source": [
    "6. Write a short Python function that takes a positive integer n and returns the sum of the squares of all the odd positive integers smaller than n."
   ]
  },
  {
   "cell_type": "code",
   "execution_count": 18,
   "metadata": {},
   "outputs": [
    {
     "data": {
      "text/plain": [
       "10"
      ]
     },
     "execution_count": 18,
     "metadata": {},
     "output_type": "execute_result"
    }
   ],
   "source": [
    "def sqr_sum(n):\n",
    "    sum=0\n",
    "    for i in range(1,n,2):\n",
    "        sum += i * i \n",
    "    return sum\n",
    "\n",
    "sqr_sum(4)\n",
    "\n",
    "# Note: needed to check if the number is positive"
   ]
  },
  {
   "cell_type": "markdown",
   "metadata": {},
   "source": [
    "7. Give a single command that computes the sum from Exercise 4 , relying on Pythonis comprehension syntax and the built in sum function. "
   ]
  },
  {
   "cell_type": "code",
   "execution_count": 22,
   "metadata": {},
   "outputs": [
    {
     "data": {
      "text/plain": [
       "10"
      ]
     },
     "execution_count": 22,
     "metadata": {},
     "output_type": "execute_result"
    }
   ],
   "source": [
    "def sqr_sum(n):\n",
    "    add= sum([i*i for i in range(1,n,2)])\n",
    "    return add\n",
    "\n",
    "sqr_sum(4)\n"
   ]
  },
  {
   "cell_type": "markdown",
   "metadata": {},
   "source": [
    "8. Python allows negative integers to be used as indices into a sequence, such as a string. If string s has length n, and expression s[k] is used for index -n<= k <0, what is the equivalent index j>= 0 such that s[j] referneces the same element?"
   ]
  },
  {
   "cell_type": "code",
   "execution_count": 27,
   "metadata": {},
   "outputs": [
    {
     "data": {
      "text/plain": [
       "(6, 6)"
      ]
     },
     "execution_count": 27,
     "metadata": {},
     "output_type": "execute_result"
    }
   ],
   "source": [
    "\n",
    "def number(data, k):\n",
    "    n= len(data)\n",
    "\n",
    "    return data[k], data[k+n]\n",
    "    # return from negative side,from positive side\n",
    "\n",
    "number([4,34,66,7,5,3,2,4,6,2,4,7], -4)\n",
    "# number (sequence, k value in negative as question)"
   ]
  },
  {
   "cell_type": "markdown",
   "metadata": {},
   "source": [
    "9. Write a parameters should be sent to the range constructor, to produce a range with values 50, 60, 70, 80?"
   ]
  },
  {
   "cell_type": "code",
   "execution_count": 36,
   "metadata": {},
   "outputs": [
    {
     "name": "stdout",
     "output_type": "stream",
     "text": [
      "50, 60, 70, 80, "
     ]
    }
   ],
   "source": [
    "for i in range(5 *10,9*10,10):\n",
    "   print(i,end=', ')"
   ]
  },
  {
   "cell_type": "markdown",
   "metadata": {},
   "source": [
    "10. Write a parameters should be sent to the range constructor, to produce a range with values 8,6,4,2,0,-2,-4,-6,-8?"
   ]
  },
  {
   "cell_type": "code",
   "execution_count": 35,
   "metadata": {},
   "outputs": [
    {
     "name": "stdout",
     "output_type": "stream",
     "text": [
      "-8, -6, -4, -2, 0, 2, 4, 6, 8, "
     ]
    }
   ],
   "source": [
    "\n",
    "for i in range(-8,9,2):\n",
    "   print(i,end=', ')\n"
   ]
  },
  {
   "cell_type": "markdown",
   "metadata": {},
   "source": [
    "11. Demonstrate how to use Pythons list comprehension syntax to produce the list [1,2,4,8,16,32,64,128,256]."
   ]
  },
  {
   "cell_type": "code",
   "execution_count": 40,
   "metadata": {},
   "outputs": [
    {
     "data": {
      "text/plain": [
       "[1, 2, 4, 8, 16, 32, 64, 128, 256]"
      ]
     },
     "execution_count": 40,
     "metadata": {},
     "output_type": "execute_result"
    }
   ],
   "source": [
    "[2**i for i in range(9) ]"
   ]
  },
  {
   "cell_type": "markdown",
   "metadata": {},
   "source": [
    "12 Python random module includes a function choice(data) that returns a random element from a non-empty sequence. The random module includes a more basic function randrange, with parameterization similar to the built-in range function, that returns a random choice from the given range. Using only the randrange function, implement your own version of the choice function. "
   ]
  },
  {
   "cell_type": "code",
   "execution_count": 87,
   "metadata": {},
   "outputs": [
    {
     "data": {
      "text/plain": [
       "83"
      ]
     },
     "execution_count": 87,
     "metadata": {},
     "output_type": "execute_result"
    }
   ],
   "source": [
    "import random as rn\n",
    "\n",
    "def choice(data):\n",
    "   \n",
    "    return data[rn.randrange(0,len(data))]\n",
    "\n",
    "choice([3,546,6,4,45,6,8,43,6,83,68,46,77,4,7])\n"
   ]
  },
  {
   "cell_type": "markdown",
   "metadata": {},
   "source": [
    "## Chapter 1: Python Primer Exercises\n",
    "\n",
    "This README file provides a summary of the 12 exercises from Chapter 1 of the Python Primer.\n",
    "\n",
    "### Exercise 1: is_multiple(n, m)\n",
    "Write a short program, `is_multiple(n, m)`, that takes two integer values and returns `True` if `n` is a multiple of `m`, that is, `n = mi` for some integer `i`, and `False` otherwise.\n",
    "\n",
    "### Exercise 2: is_even(k)\n",
    "Write a short Python function, `is_even(k)`, that takes an integer value and returns `True` if `k` is even, and `False` otherwise. However, your function cannot use the multiplication, modulo, or division operator.\n",
    "\n",
    "### Exercise 3: minmax(data)\n",
    "Write a short program function, `minmax(data)`, that takes a sequence of one or more numbers and returns the smallest and largest number in the form of a tuple of length two. Do not use the built-in functions.\n",
    "\n",
    "### Exercise 4: sqr_sum(n)\n",
    "Write a short Python function that takes a positive integer `n` and returns the sum of the squares of all the positive integers smaller than `n`.\n",
    "\n",
    "### Exercise 5: sqr_sum_comprehension(n)\n",
    "Give a single command that computes the sum from Exercise 4, relying on Python's comprehension syntax and the built-in `sum` function.\n",
    "\n",
    "### Exercise 6: sqr_sum_odd(n)\n",
    "Write a short Python function that takes a positive integer `n` and returns the sum of the squares of all the odd positive integers smaller than `n`.\n",
    "\n",
    "### Exercise 7: sqr_sum_odd_comprehension(n)\n",
    "Give a single command that computes the sum from Exercise 6, relying on Python's comprehension syntax and the built-in `sum` function.\n",
    "\n",
    "### Exercise 8: Equivalent Index for Negative Indices\n",
    "Python allows negative integers to be used as indices into a sequence, such as a string. If string `s` has length `n`, and the expression `s[k]` is used for index `-n <= k < 0`, what is the equivalent index `j >= 0` such that `s[j]` references the same element?\n",
    "\n",
    "### Exercise 9: Range Constructor Parameters\n",
    "Write the parameters that should be sent to the range constructor to produce a range with values `50, 60, 70, 80`.\n",
    "\n",
    "### Exercise 10: Range Constructor Parameters\n",
    "Write the parameters that should be sent to the range constructor to produce a range with values `8, 6, 4, 2, 0, -2, -4, -6, -8`.\n",
    "\n",
    "### Exercise 11: List Comprehension\n",
    "Demonstrate how to use Python's list comprehension syntax to produce the list `[1, 2, 4, 8, 16, 32, 64, 128, 256]`.\n",
    "\n",
    "### Exercise 12: Implementing choice() Function\n",
    "Python's random module includes a function `choice(data)` that returns a random element from a non-empty sequence. The random module also includes a more basic function `randrange`, with parameterization similar to the built-in `range` function, that returns a random choice from the given range. Using only the `randrange` function, implement your own version of the `choice` function.\n",
    "\n",
    "These exercises cover various concepts and techniques in Python programming. Complete the exercises to enhance your understanding of Python and its capabilities.\n",
    "\n",
    "Good luck with your Python learning journey!"
   ]
  }
 ],
 "metadata": {
  "kernelspec": {
   "display_name": "Python 3",
   "language": "python",
   "name": "python3"
  },
  "language_info": {
   "codemirror_mode": {
    "name": "ipython",
    "version": 3
   },
   "file_extension": ".py",
   "mimetype": "text/x-python",
   "name": "python",
   "nbconvert_exporter": "python",
   "pygments_lexer": "ipython3",
   "version": "3.12.1"
  }
 },
 "nbformat": 4,
 "nbformat_minor": 2
}
